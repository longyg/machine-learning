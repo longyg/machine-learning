{
 "cells": [
  {
   "cell_type": "code",
   "execution_count": 37,
   "metadata": {},
   "outputs": [
    {
     "name": "stdout",
     "output_type": "stream",
     "text": [
      "date\n"
     ]
    }
   ],
   "source": [
    "from nltk.stem import WordNetLemmatizer\n",
    "lemmatizer = WordNetLemmatizer()\n",
    "\n",
    "text = \"dates\"\n",
    "\n",
    "word = lemmatizer.lemmatize(text)\n",
    "print(word)"
   ]
  },
  {
   "cell_type": "code",
   "execution_count": 65,
   "metadata": {},
   "outputs": [
    {
     "name": "stdout",
     "output_type": "stream",
     "text": [
      "<re.Match object; span=(0, 1), match='7'>\n"
     ]
    }
   ],
   "source": [
    "import re\n",
    "stop_pattern = re.compile('[\\d’%]')\n",
    "word = \"7up\"\n",
    "match = stop_pattern.match(word)\n",
    "print(match)"
   ]
  },
  {
   "cell_type": "code",
   "execution_count": 21,
   "metadata": {},
   "outputs": [
    {
     "name": "stdout",
     "output_type": "stream",
     "text": [
      "['sweet potatoes or yams', 'firmly packed brown sugar']\n"
     ]
    }
   ],
   "source": [
    "unused_keywords = [\"i can't believe\"]\n",
    "\n",
    "def isInlist(text):\n",
    "    for key in unused_keywords:\n",
    "        if key.lower() in text.lower():\n",
    "            return True\n",
    "    return False\n",
    "\n",
    "texts = [\"sweet potatoes or yams\",\n",
    "          \"firmly packed brown sugar\",\n",
    "          \"I Can't Believe It's Not Butter!® Spread\"]\n",
    "\n",
    "texts = [text for text in texts if not isInlist(text)]\n",
    "\n",
    "print(texts)"
   ]
  },
  {
   "cell_type": "code",
   "execution_count": 54,
   "metadata": {},
   "outputs": [
    {
     "name": "stdout",
     "output_type": "stream",
     "text": [
      "hellmann' or best food real mayonnais\n"
     ]
    }
   ],
   "source": [
    "def _get_word_replacements():\n",
    "    return {'chilies': 'chili',\n",
    "            'mayonnais': 'mayonnaise',\n",
    "            'hellmann\\'\\'s': 'hellmann',\n",
    "            'hellmann\\'s®': 'hellmann',\n",
    "            'hellmann\\'': 'hellmann',\n",
    "            'rice®': 'rice'\n",
    "        }\n",
    "\n",
    "def _get_replacements():\n",
    "    return {'wasabe': 'wasabi', '-': '', 'sauc': 'sauce',\n",
    "            'baby spinach': 'babyspinach', 'coconut cream': 'coconutcream',\n",
    "            'coriander seeds': 'corianderseeds', 'corn tortillas': 'corntortillas',\n",
    "            'cream cheese': 'creamcheese', 'fish sauce': 'fishsauce',\n",
    "            'purple onion': 'purpleonion','refried beans': 'refriedbeans', \n",
    "            'rice cakes': 'ricecakes', 'rice syrup': 'ricesyrup', \n",
    "            'sour cream': 'sourcream', 'toasted sesame seeds': 'toastedsesameseeds', \n",
    "            'toasted sesame oil': 'toastedsesameoil', 'yellow onion': 'yellowonion', \n",
    "            '7 up': '7up',\n",
    "            'uncle ben\\'s®': 'unclebens',\n",
    "            'uncle ben\\'s': 'unclebens',\n",
    "            'uncle bens': 'unclebens'\n",
    "            }\n",
    "\n",
    "string = \"hellmann' or best food real mayonnais\"\n",
    "string = string.lower()\n",
    "for key, value in _get_replacements().items():\n",
    "    string = string.replace(key, value)\n",
    "\n",
    "print(string)"
   ]
  },
  {
   "cell_type": "code",
   "execution_count": 55,
   "metadata": {},
   "outputs": [
    {
     "name": "stdout",
     "output_type": "stream",
     "text": [
      "hellmann or best food real mayonnaise\n"
     ]
    }
   ],
   "source": [
    "def _replace_word(word):\n",
    "    for key, value in _get_word_replacements().items():\n",
    "        word = word.replace(key, value)\n",
    "    return word\n",
    "\n",
    "words = []\n",
    "for word in string.split():\n",
    "    word = _replace_word(word)\n",
    "    words.append(word)\n",
    "string = ' '.join(words)\n",
    "print(string)"
   ]
  },
  {
   "cell_type": "code",
   "execution_count": 66,
   "metadata": {},
   "outputs": [
    {
     "name": "stdout",
     "output_type": "stream",
     "text": [
      "lime simple syrup 7up lemon grenadine wine lime wedge blanco tequila orange bitter fresh lime juice\n"
     ]
    }
   ],
   "source": [
    "def _remove_unused_texts(texts):\n",
    "    unused_keywords = _get_unused_keywords()\n",
    "    texts = [text for text in texts if not _ifInList(text, unused_keywords)]\n",
    "    return texts\n",
    "\n",
    "def _ifInList(text, wordList):\n",
    "    for key in wordList:\n",
    "        if key.lower() in text.lower():\n",
    "            return True\n",
    "    return False\n",
    "\n",
    "def _get_unused_keywords():\n",
    "    return [\"i can't believe\"]\n",
    "\n",
    "def _text_transform(texts, isLemmatize=False):\n",
    "    texts = _remove_unused_texts(texts)\n",
    "    if len(texts) < 1:\n",
    "        return ''\n",
    "\n",
    "    lemmatizer = WordNetLemmatizer()\n",
    "\n",
    "    string = ' '.join(texts).lower()\n",
    "\n",
    "    for key, value in _get_replacements().items():\n",
    "        string = string.replace(key, value)\n",
    "\n",
    "    words = []\n",
    "    for word in string.split():\n",
    "        word = _replace_word(word)\n",
    "        if len(word) > 2:\n",
    "            if isLemmatize:\n",
    "                # 词形还原，比如 eggs 还原为 egg\n",
    "                word = lemmatizer.lemmatize(word)\n",
    "            words.append(word)\n",
    "    return ' '.join(words)\n",
    "\n",
    "texts = [\"lime\",\n",
    "      \"simple syrup\",\n",
    "      \"7 Up\",\n",
    "      \"lemon\",\n",
    "      \"grenadine\",\n",
    "      \"wine\",\n",
    "      \"lime wedges\",\n",
    "      \"blanco tequila\",\n",
    "      \"orange\",\n",
    "      \"bitters\",\n",
    "      \"fresh lime juice\"]\n",
    "\n",
    "string = _text_transform(texts, isLemmatize=True)\n",
    "print(string)"
   ]
  },
  {
   "cell_type": "code",
   "execution_count": 68,
   "metadata": {},
   "outputs": [
    {
     "name": "stdout",
     "output_type": "stream",
     "text": [
      "0\n"
     ]
    }
   ],
   "source": [
    "words = []\n",
    "print(len(' '.join(words)))"
   ]
  },
  {
   "cell_type": "code",
   "execution_count": null,
   "metadata": {},
   "outputs": [],
   "source": []
  }
 ],
 "metadata": {
  "kernelspec": {
   "display_name": "Python 3",
   "language": "python",
   "name": "python3"
  },
  "language_info": {
   "codemirror_mode": {
    "name": "ipython",
    "version": 3
   },
   "file_extension": ".py",
   "mimetype": "text/x-python",
   "name": "python",
   "nbconvert_exporter": "python",
   "pygments_lexer": "ipython3",
   "version": "3.7.3"
  }
 },
 "nbformat": 4,
 "nbformat_minor": 2
}
