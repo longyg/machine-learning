{
 "cells": [
  {
   "cell_type": "markdown",
   "metadata": {},
   "source": [
    "# Numpy快速入门简明教程\n",
    "\n",
    "本教程是Numpy的入门教程，基于官方《[Quickstart tutorial](https://docs.scipy.org/doc/numpy/user/quickstart.html)》\n",
    "\n",
    "numpy不是Python默认内置模块，所以在使用numpy之前，我们需要导入numpy模块："
   ]
  },
  {
   "cell_type": "code",
   "execution_count": 1,
   "metadata": {},
   "outputs": [],
   "source": [
    "import numpy as np"
   ]
  },
  {
   "cell_type": "markdown",
   "metadata": {},
   "source": [
    "## 一、创建numpy数组\n",
    "\n",
    "### 1. 使用numpy.array()函数\n",
    "#### 1） 通过List创建numpy数组\n",
    "\n",
    "  传入Python标准的list"
   ]
  },
  {
   "cell_type": "code",
   "execution_count": 25,
   "metadata": {},
   "outputs": [
    {
     "name": "stdout",
     "output_type": "stream",
     "text": [
      "[[1 2 3]\n",
      " [4 5 6]]\n"
     ]
    }
   ],
   "source": [
    "a = np.array([[1, 2, 3], [4, 5, 6]])\n",
    "print(a)"
   ]
  },
  {
   "cell_type": "markdown",
   "metadata": {},
   "source": [
    "#### 2） 通过tuple创建numpy数组\n",
    "\n",
    "  传入tuple"
   ]
  },
  {
   "cell_type": "code",
   "execution_count": 27,
   "metadata": {},
   "outputs": [
    {
     "name": "stdout",
     "output_type": "stream",
     "text": [
      "[[1 2 3]\n",
      " [4 5 6]]\n"
     ]
    }
   ],
   "source": [
    "b = np.array(((1, 2, 3), (4, 5, 6)))\n",
    "print(b)"
   ]
  },
  {
   "cell_type": "markdown",
   "metadata": {},
   "source": [
    "### 2. 使用arange()函数创建数组\n",
    "\n",
    "arange()函数用来创建序列数组\n",
    "\n",
    "**1） 传入单个参数时，可以创建从0开始到传入参数的按1递增的序列数组**"
   ]
  },
  {
   "cell_type": "code",
   "execution_count": 29,
   "metadata": {},
   "outputs": [
    {
     "name": "stdout",
     "output_type": "stream",
     "text": [
      "[ 0  1  2  3  4  5  6  7  8  9 10 11 12 13 14 15 16 17 18 19]\n"
     ]
    }
   ],
   "source": [
    "c = np.arange(20)\n",
    "print(c)"
   ]
  },
  {
   "cell_type": "markdown",
   "metadata": {},
   "source": [
    "**2） 传入2个参数，可以创建从第1个参数开始到第2个参数的按1递增的序列数组**"
   ]
  },
  {
   "cell_type": "code",
   "execution_count": 30,
   "metadata": {},
   "outputs": [
    {
     "name": "stdout",
     "output_type": "stream",
     "text": [
      "[10 11 12 13 14 15 16 17 18 19]\n"
     ]
    }
   ],
   "source": [
    "d = np.arange(10,20)\n",
    "print(d)"
   ]
  },
  {
   "cell_type": "markdown",
   "metadata": {},
   "source": [
    "**3） 传入3个参数，可以创建从第1个参数开始到第2个参数的按第3个参数递增的序列数组**"
   ]
  },
  {
   "cell_type": "code",
   "execution_count": 38,
   "metadata": {},
   "outputs": [
    {
     "name": "stdout",
     "output_type": "stream",
     "text": [
      "[10 13 16 19]\n"
     ]
    }
   ],
   "source": [
    "e = np.arange(10, 20, 3)\n",
    "print(e)"
   ]
  },
  {
   "cell_type": "markdown",
   "metadata": {},
   "source": [
    "当然也可以用该方法创建一个递减序列数组："
   ]
  },
  {
   "cell_type": "code",
   "execution_count": 39,
   "metadata": {},
   "outputs": [
    {
     "name": "stdout",
     "output_type": "stream",
     "text": [
      "[20 17 14 11]\n"
     ]
    }
   ],
   "source": [
    "f = np.arange(20, 10, -3)\n",
    "print(f)"
   ]
  },
  {
   "cell_type": "markdown",
   "metadata": {},
   "source": [
    "### 3. 使用linspace()函数创建数组\n",
    "\n",
    "linspace()同样可以像arange()函数那样创建序列数组。\n",
    "\n",
    "在有些情况下，我们不知道递增数值是多少，而只想产生某个数值范围内的指定个数的序列数组。这种情况下， 使用linspace()比arange()函数更方便。因为linspace会自动计算递增数值。\n",
    "\n",
    "如下，生成了一个从0递增到2的包含9个元素的序列数组："
   ]
  },
  {
   "cell_type": "code",
   "execution_count": 40,
   "metadata": {},
   "outputs": [
    {
     "name": "stdout",
     "output_type": "stream",
     "text": [
      "[0.   0.25 0.5  0.75 1.   1.25 1.5  1.75 2.  ]\n",
      "float64\n"
     ]
    }
   ],
   "source": [
    "e = np.linspace(0, 2, 9)\n",
    "print(e)\n",
    "print(e.dtype)"
   ]
  },
  {
   "cell_type": "markdown",
   "metadata": {},
   "source": [
    "下面例子，通过linspace()函数生成0到2倍pi值的包含10个元素的递增序列数组，然后对生成的序列数组求sin值。"
   ]
  },
  {
   "cell_type": "code",
   "execution_count": 41,
   "metadata": {},
   "outputs": [
    {
     "name": "stdout",
     "output_type": "stream",
     "text": [
      "[0.         0.6981317  1.3962634  2.0943951  2.7925268  3.4906585\n",
      " 4.1887902  4.88692191 5.58505361 6.28318531]\n",
      "[ 0.00000000e+00  6.42787610e-01  9.84807753e-01  8.66025404e-01\n",
      "  3.42020143e-01 -3.42020143e-01 -8.66025404e-01 -9.84807753e-01\n",
      " -6.42787610e-01 -2.44929360e-16]\n"
     ]
    }
   ],
   "source": [
    "from numpy import pi\n",
    "e = np.linspace(0, 2*pi, 10)\n",
    "print(e)\n",
    "e = np.sin(e)\n",
    "print(e)"
   ]
  },
  {
   "cell_type": "markdown",
   "metadata": {},
   "source": [
    "#### 使用reshape()函数创建数组\n",
    "\n",
    "reshape()函数可以把已有的数组变换维度，进行重组。\n",
    "\n",
    "> 注意，必须保证数组的element个数不变"
   ]
  },
  {
   "cell_type": "code",
   "execution_count": 42,
   "metadata": {},
   "outputs": [
    {
     "name": "stdout",
     "output_type": "stream",
     "text": [
      "[[ 0  1  2  3  4]\n",
      " [ 5  6  7  8  9]\n",
      " [10 11 12 13 14]\n",
      " [15 16 17 18 19]]\n"
     ]
    }
   ],
   "source": [
    "f = np.arange(20)\n",
    "g = f.reshape(4, 5)\n",
    "print(g)"
   ]
  },
  {
   "cell_type": "code",
   "execution_count": 43,
   "metadata": {},
   "outputs": [
    {
     "name": "stdout",
     "output_type": "stream",
     "text": [
      "[[ 0  1  2  3]\n",
      " [ 4  5  6  7]\n",
      " [ 8  9 10 11]\n",
      " [12 13 14 15]\n",
      " [16 17 18 19]]\n"
     ]
    }
   ],
   "source": [
    "h = g.reshape(5, 4)\n",
    "print(h)"
   ]
  },
  {
   "cell_type": "code",
   "execution_count": 44,
   "metadata": {},
   "outputs": [
    {
     "name": "stdout",
     "output_type": "stream",
     "text": [
      "[[[ 0  1  2  3  4]\n",
      "  [ 5  6  7  8  9]]\n",
      "\n",
      " [[10 11 12 13 14]\n",
      "  [15 16 17 18 19]]]\n"
     ]
    }
   ],
   "source": [
    "i = h.reshape(2, 2, 5)\n",
    "print(i)"
   ]
  },
  {
   "cell_type": "markdown",
   "metadata": {},
   "source": [
    "#### 使用zeros()函数创建数组\n",
    "\n",
    "zeros()函数可以创建一个值全为0的数组"
   ]
  },
  {
   "cell_type": "code",
   "execution_count": 45,
   "metadata": {},
   "outputs": [
    {
     "name": "stdout",
     "output_type": "stream",
     "text": [
      "[[0. 0. 0. 0.]\n",
      " [0. 0. 0. 0.]\n",
      " [0. 0. 0. 0.]]\n",
      "float64\n"
     ]
    }
   ],
   "source": [
    "j = np.zeros((3, 4))\n",
    "print(j)\n",
    "print(j.dtype)"
   ]
  },
  {
   "cell_type": "code",
   "execution_count": 46,
   "metadata": {},
   "outputs": [
    {
     "name": "stdout",
     "output_type": "stream",
     "text": [
      "[[0 0 0 0]\n",
      " [0 0 0 0]\n",
      " [0 0 0 0]]\n",
      "int16\n"
     ]
    }
   ],
   "source": [
    "k = np.zeros((3, 4), dtype=np.int16)\n",
    "print(k)\n",
    "print(k.dtype)"
   ]
  },
  {
   "cell_type": "markdown",
   "metadata": {},
   "source": [
    "#### 使用ones()函数创建数组\n",
    "\n",
    "ones()函数可以创建一个值全为1的数组"
   ]
  },
  {
   "cell_type": "code",
   "execution_count": 47,
   "metadata": {},
   "outputs": [
    {
     "name": "stdout",
     "output_type": "stream",
     "text": [
      "[[[1 1 1 1]\n",
      "  [1 1 1 1]\n",
      "  [1 1 1 1]]\n",
      "\n",
      " [[1 1 1 1]\n",
      "  [1 1 1 1]\n",
      "  [1 1 1 1]]]\n",
      "int32\n"
     ]
    }
   ],
   "source": [
    "l = np.ones((2, 3, 4), dtype=np.int32)\n",
    "print(l)\n",
    "print(l.dtype)"
   ]
  },
  {
   "cell_type": "markdown",
   "metadata": {},
   "source": [
    "#### 使用empty() 函数创建数组\n",
    "\n",
    "empty()函数可以创建一个初始值为随机数的数组"
   ]
  },
  {
   "cell_type": "code",
   "execution_count": 48,
   "metadata": {},
   "outputs": [
    {
     "name": "stdout",
     "output_type": "stream",
     "text": [
      "[[[4.05e-322]\n",
      "  [0.00e+000]]\n",
      "\n",
      " [[0.00e+000]\n",
      "  [0.00e+000]]\n",
      "\n",
      " [[0.00e+000]\n",
      "  [0.00e+000]]]\n",
      "float64\n"
     ]
    }
   ],
   "source": [
    "m = np.empty((3, 2 , 1))\n",
    "print(m)\n",
    "print(m.dtype)"
   ]
  },
  {
   "cell_type": "markdown",
   "metadata": {},
   "source": [
    "### numpy数组属性\n",
    "\n",
    "numpy所有数组的类型是`ndarray`，可以通过Python的type()函数查看："
   ]
  },
  {
   "cell_type": "code",
   "execution_count": 49,
   "metadata": {},
   "outputs": [
    {
     "name": "stdout",
     "output_type": "stream",
     "text": [
      "<class 'numpy.ndarray'>\n"
     ]
    }
   ],
   "source": [
    "d = np.array([[1, 2, 3], [4, 5, 6]])\n",
    "print(type(d))"
   ]
  },
  {
   "cell_type": "markdown",
   "metadata": {},
   "source": [
    "numpy所有数组具有如下属性：\n",
    "\n",
    "`ndim`, `shape`, `size`, `dtype`, `itemsize`, `data`"
   ]
  },
  {
   "cell_type": "code",
   "execution_count": 50,
   "metadata": {},
   "outputs": [
    {
     "name": "stdout",
     "output_type": "stream",
     "text": [
      "[[[ 0  1  2  3  4]\n",
      "  [ 5  6  7  8  9]\n",
      "  [10 11 12 13 14]\n",
      "  [15 16 17 18 19]]\n",
      "\n",
      " [[20 21 22 23 24]\n",
      "  [25 26 27 28 29]\n",
      "  [30 31 32 33 34]\n",
      "  [35 36 37 38 39]]\n",
      "\n",
      " [[40 41 42 43 44]\n",
      "  [45 46 47 48 49]\n",
      "  [50 51 52 53 54]\n",
      "  [55 56 57 58 59]]]\n",
      "3\n",
      "(3, 4, 5)\n",
      "3\n",
      "4\n",
      "5\n",
      "60\n",
      "int32\n",
      "4\n",
      "4\n",
      "<memory at 0x0000000004BEBC78>\n"
     ]
    }
   ],
   "source": [
    "e = np.arange(60)\n",
    "f = e.reshape(3, 4, 5)\n",
    "print(f)\n",
    "print(f.ndim)\n",
    "print(f.shape)\n",
    "print(f.shape[0])\n",
    "print(f.shape[1])\n",
    "print(f.shape[2])\n",
    "print(f.size)\n",
    "print(f.dtype)\n",
    "print(f.itemsize)\n",
    "print(f.dtype.itemsize)\n",
    "print(f.data)"
   ]
  },
  {
   "cell_type": "markdown",
   "metadata": {},
   "source": [
    "创建数组时，通过传入dtype参数可以指定数组中数据的类型："
   ]
  },
  {
   "cell_type": "code",
   "execution_count": 51,
   "metadata": {},
   "outputs": [
    {
     "name": "stdout",
     "output_type": "stream",
     "text": [
      "[[0.+0.j 1.+0.j 2.+0.j 3.+0.j]\n",
      " [4.+0.j 5.+0.j 6.+0.j 7.+0.j]]\n",
      "complex128\n"
     ]
    }
   ],
   "source": [
    "h = np.arange(8, dtype=complex)\n",
    "i = h.reshape(2, 4)\n",
    "print(i)\n",
    "print(i.dtype)"
   ]
  },
  {
   "cell_type": "code",
   "execution_count": 52,
   "metadata": {},
   "outputs": [
    {
     "name": "stdout",
     "output_type": "stream",
     "text": [
      "[[0 0 0 0]\n",
      " [0 0 0 0]\n",
      " [0 0 0 0]]\n",
      "int16\n"
     ]
    }
   ],
   "source": [
    "k = np.zeros((3, 4), dtype=np.int16)\n",
    "print(k)\n",
    "print(k.dtype)"
   ]
  },
  {
   "cell_type": "code",
   "execution_count": 53,
   "metadata": {},
   "outputs": [
    {
     "name": "stdout",
     "output_type": "stream",
     "text": [
      "[[[1 1 1 1]\n",
      "  [1 1 1 1]\n",
      "  [1 1 1 1]]\n",
      "\n",
      " [[1 1 1 1]\n",
      "  [1 1 1 1]\n",
      "  [1 1 1 1]]]\n",
      "int32\n"
     ]
    }
   ],
   "source": [
    "l = np.ones((2, 3, 4), dtype=np.int32)\n",
    "print(l)\n",
    "print(l.dtype)"
   ]
  },
  {
   "cell_type": "markdown",
   "metadata": {},
   "source": [
    "### Numpy基本操作\n",
    "\n",
    "在numpy中，算术运算符如`+`, `-`, `*`, `/`等会作用在数组的每个element上。"
   ]
  },
  {
   "cell_type": "code",
   "execution_count": 54,
   "metadata": {},
   "outputs": [
    {
     "name": "stdout",
     "output_type": "stream",
     "text": [
      "[20 30 40 50]\n",
      "[0 1 2 3]\n"
     ]
    }
   ],
   "source": [
    "a = np.array([20, 30, 40, 50])\n",
    "b = np.arange(4)\n",
    "print(a)\n",
    "print(b)"
   ]
  },
  {
   "cell_type": "code",
   "execution_count": 55,
   "metadata": {},
   "outputs": [
    {
     "name": "stdout",
     "output_type": "stream",
     "text": [
      "[20 29 38 47]\n"
     ]
    }
   ],
   "source": [
    "c = a - b\n",
    "print(c)"
   ]
  },
  {
   "cell_type": "code",
   "execution_count": 56,
   "metadata": {},
   "outputs": [
    {
     "name": "stdout",
     "output_type": "stream",
     "text": [
      "[0 1 4 9]\n"
     ]
    }
   ],
   "source": [
    "d = b ** 2\n",
    "print(d)"
   ]
  }
 ],
 "metadata": {
  "kernelspec": {
   "display_name": "Python 3",
   "language": "python",
   "name": "python3"
  },
  "language_info": {
   "codemirror_mode": {
    "name": "ipython",
    "version": 3
   },
   "file_extension": ".py",
   "mimetype": "text/x-python",
   "name": "python",
   "nbconvert_exporter": "python",
   "pygments_lexer": "ipython3",
   "version": "3.6.6"
  }
 },
 "nbformat": 4,
 "nbformat_minor": 2
}
